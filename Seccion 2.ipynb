{
 "cells": [
  {
   "cell_type": "markdown",
   "metadata": {},
   "source": [
    "<img src=\"http://www.exalumnos.usm.cl/wp-content/uploads/2015/06/Isotipo-Negro.gif\" title=\"Title text\" width=\"20%\" height=\"20%\" />\n",
    "\n",
    "\n",
    "<hr style=\"height:2px;border:none\"/>\n",
    "<h1 align='center'> INF-393 Máquinas de Aprendizaje II-2018 </h1>\n",
    "<h2 align='center'> Maria Apolo Rol: 201573509-3 </h1>\n",
    "<h2 align='center'> Diego Gutierrez Rol: 201573558-1 </h1>\n",
    "<h2 align='center'> Profesor: Ricardo Ñanculef </h1>\n",
    "<H3 align='center'> Tarea 2 - Fronteras no Lineales </H3>\n",
    "<hr style=\"height:2px;border:none\"/>\n"
   ]
  },
  {
   "cell_type": "markdown",
   "metadata": {},
   "source": [
    "<a id=\"segundo\"></a>\n",
    "## 2. Problema de Múltiples Anotaciones\n",
    "\n",
    "El aprendizaje supervisado visto en clases da cuenta que existe una única posible etiqueta $z$ (*ground truth*) asociada a un dato $x$ para poder aprender de los datos. Sin embargo, la definición del *ground truth* en algunos casos puede resultar bastante difícil de definir o bastante costoso, por ejemplo en problemas médicos donde se deben realizar invasivos exámenes para conocer la \"verdad absoluta\". Como alternativa se pueden recolectar múltiples anotaciones desde personas inexpertas en el área para poder estimar el *ground truth*. \n",
    "\n",
    "<img src=\"http://www.irishenvironment.com/wp-content/uploads/2013/11/crowdsourcing.jpg\" title=\"Title text\" width=\"40%\" />\n",
    "\n",
    "En esta actividad se trabajará en el caso en que contamos con múltiples anotaciones por cada dato de entrada $x_i$ dadas por personas inexpertas a través de Amazon Mechanical Turk (__[AMT](https://www.mturk.com/)__), es decir, $y^{(1)}, y^{(2)} \\ldots y^{(T_i)}$. El problema de predicción trabajado será el mismo de la actividad anterior, el análisis de sentimiento de un extracto de texto en Rotten Tomatoes. Los datos trabajados [[8]](#refs) pueden ser descargados de la página del autor.\n",
    "```\n",
    "wget http://fprodrigues.com//mturk-datasets.tar.gz\n",
    "```\n",
    "\n",
    "De esta manera trabajaremos con el archivo *mturk_answers.csv* en la carpeta *sentiment polarity* que se puede cargar con pandas. En este archivo se tendrán múltiples filas/registros por cada dato de entrenamiento, cada uno representando la etiqueta que entregó una persona (*worker*) a ese dato, los detalles de columnas son:\n",
    "* *WorkerId*: identificador de la persona que etiquetó/anotó el dato\n",
    "* *Input.id*: identificador del dato a etiquetar/anotar\n",
    "* *Input.original_sentence*: texto original del dato\n",
    "* *Input.stemmed_sent*: texto pre-procesado\n",
    "* *Input.true_sent*: sentimiento real (*ground truth*) del dato\n",
    "* *Answer.sent*:   etiqueta/anotación que entregó la persona\n",
    "\n",
    "\n",
    "\n",
    "> El objetivo de la actividad será el de obtener un modelo predictor del *ground truth* sin entrenar directamente con esto, sino que utilizar las múltiples anotaciones de las personas\n",
    "\n",
    "### Importante\n",
    "* Deberá crear un conjunto aleatorio de pruebas que solo contenga los textos y el sentimiento *ground truth* (sin repeticiones)\n",
    "* Los valores de *ground truth* están **solo para evaluar**, no puede utilizarlos para entrenar o tomar decisiones en su modelo.\n",
    "* La métrica de evaluación será el *accuracy score*\n",
    "```python\n",
    "from sklearn.metrics import accuracy_score\n",
    "accuracy_score(y_true, y_pred)\n",
    "```\n"
   ]
  },
  {
   "cell_type": "code",
   "execution_count": 1,
   "metadata": {},
   "outputs": [
    {
     "name": "stdout",
     "output_type": "stream",
     "text": [
      "Tamaño del dataframe (27746, 6)\n"
     ]
    },
    {
     "data": {
      "text/html": [
       "<div>\n",
       "<style scoped>\n",
       "    .dataframe tbody tr th:only-of-type {\n",
       "        vertical-align: middle;\n",
       "    }\n",
       "\n",
       "    .dataframe tbody tr th {\n",
       "        vertical-align: top;\n",
       "    }\n",
       "\n",
       "    .dataframe thead th {\n",
       "        text-align: right;\n",
       "    }\n",
       "</style>\n",
       "<table border=\"1\" class=\"dataframe\">\n",
       "  <thead>\n",
       "    <tr style=\"text-align: right;\">\n",
       "      <th></th>\n",
       "      <th>WorkerId</th>\n",
       "      <th>Input.id</th>\n",
       "      <th>Input.original_sentence</th>\n",
       "      <th>Input.stemmed_sent</th>\n",
       "      <th>Input.true_sent</th>\n",
       "      <th>Answer.sent</th>\n",
       "    </tr>\n",
       "  </thead>\n",
       "  <tbody>\n",
       "    <tr>\n",
       "      <th>0</th>\n",
       "      <td>A2HD5XMM48KKJW</td>\n",
       "      <td>4518</td>\n",
       "      <td>the cast is phenomenal , especially the women .</td>\n",
       "      <td>cast phenomen especi women</td>\n",
       "      <td>pos</td>\n",
       "      <td>pos</td>\n",
       "    </tr>\n",
       "    <tr>\n",
       "      <th>1</th>\n",
       "      <td>A2HD5XMM48KKJW</td>\n",
       "      <td>10415</td>\n",
       "      <td>the metaphors are provocative , but too often ...</td>\n",
       "      <td>metaphor provoc often viewer left puzzl mechan...</td>\n",
       "      <td>neg</td>\n",
       "      <td>neg</td>\n",
       "    </tr>\n",
       "    <tr>\n",
       "      <th>2</th>\n",
       "      <td>A2HD5XMM48KKJW</td>\n",
       "      <td>7098</td>\n",
       "      <td>while there's something intrinsically funny ab...</td>\n",
       "      <td>there someth intrins funni sir anthoni hopkin ...</td>\n",
       "      <td>neg</td>\n",
       "      <td>pos</td>\n",
       "    </tr>\n",
       "    <tr>\n",
       "      <th>3</th>\n",
       "      <td>A2HD5XMM48KKJW</td>\n",
       "      <td>4396</td>\n",
       "      <td>a harrowing account of a psychological breakdo...</td>\n",
       "      <td>harrow account psycholog breakdown</td>\n",
       "      <td>pos</td>\n",
       "      <td>neg</td>\n",
       "    </tr>\n",
       "    <tr>\n",
       "      <th>4</th>\n",
       "      <td>A2HD5XMM48KKJW</td>\n",
       "      <td>2812</td>\n",
       "      <td>. . . a visually seductive , unrepentantly tr...</td>\n",
       "      <td>visual seduct unrepentantli trashi rice instal...</td>\n",
       "      <td>pos</td>\n",
       "      <td>pos</td>\n",
       "    </tr>\n",
       "  </tbody>\n",
       "</table>\n",
       "</div>"
      ],
      "text/plain": [
       "         WorkerId  Input.id  \\\n",
       "0  A2HD5XMM48KKJW      4518   \n",
       "1  A2HD5XMM48KKJW     10415   \n",
       "2  A2HD5XMM48KKJW      7098   \n",
       "3  A2HD5XMM48KKJW      4396   \n",
       "4  A2HD5XMM48KKJW      2812   \n",
       "\n",
       "                             Input.original_sentence  \\\n",
       "0   the cast is phenomenal , especially the women .    \n",
       "1  the metaphors are provocative , but too often ...   \n",
       "2  while there's something intrinsically funny ab...   \n",
       "3  a harrowing account of a psychological breakdo...   \n",
       "4   . . . a visually seductive , unrepentantly tr...   \n",
       "\n",
       "                                  Input.stemmed_sent Input.true_sent  \\\n",
       "0                         cast phenomen especi women             pos   \n",
       "1  metaphor provoc often viewer left puzzl mechan...             neg   \n",
       "2  there someth intrins funni sir anthoni hopkin ...             neg   \n",
       "3                 harrow account psycholog breakdown             pos   \n",
       "4  visual seduct unrepentantli trashi rice instal...             pos   \n",
       "\n",
       "  Answer.sent  \n",
       "0         pos  \n",
       "1         neg  \n",
       "2         pos  \n",
       "3         neg  \n",
       "4         pos  "
      ]
     },
     "execution_count": 1,
     "metadata": {},
     "output_type": "execute_result"
    }
   ],
   "source": [
    "import pandas as pd\n",
    "import numpy as np\n",
    "df = pd.read_csv(\"./mturk-datasets/sentiment_polarity/mturk_answers.csv\")\n",
    "print(\"Tamaño del dataframe\",df.shape)\n",
    "df.head()"
   ]
  },
  {
   "cell_type": "markdown",
   "metadata": {},
   "source": [
    "El dataframe está conformado por 27746 datos, donde cada uno consta del identificador de quien realizó la etiqueta, el identificador de la reseña que fue etiquetada, el texto de la reseña original como también el texto pre procesado de esta. Finalmente, se tiene una columna para el ground truth y una que contiene la etiqueta entregada por la persona inexperta."
   ]
  },
  {
   "cell_type": "code",
   "execution_count": 2,
   "metadata": {},
   "outputs": [
    {
     "data": {
      "text/html": [
       "<div>\n",
       "<style scoped>\n",
       "    .dataframe tbody tr th:only-of-type {\n",
       "        vertical-align: middle;\n",
       "    }\n",
       "\n",
       "    .dataframe tbody tr th {\n",
       "        vertical-align: top;\n",
       "    }\n",
       "\n",
       "    .dataframe thead th {\n",
       "        text-align: right;\n",
       "    }\n",
       "</style>\n",
       "<table border=\"1\" class=\"dataframe\">\n",
       "  <thead>\n",
       "    <tr style=\"text-align: right;\">\n",
       "      <th></th>\n",
       "      <th>Text</th>\n",
       "      <th>Sentiment</th>\n",
       "      <th>True_Labels</th>\n",
       "    </tr>\n",
       "  </thead>\n",
       "  <tbody>\n",
       "    <tr>\n",
       "      <th>0</th>\n",
       "      <td>cast phenomen especi women</td>\n",
       "      <td>1</td>\n",
       "      <td>1</td>\n",
       "    </tr>\n",
       "    <tr>\n",
       "      <th>1</th>\n",
       "      <td>metaphor provoc often viewer left puzzl mechan...</td>\n",
       "      <td>0</td>\n",
       "      <td>0</td>\n",
       "    </tr>\n",
       "    <tr>\n",
       "      <th>2</th>\n",
       "      <td>there someth intrins funni sir anthoni hopkin ...</td>\n",
       "      <td>1</td>\n",
       "      <td>0</td>\n",
       "    </tr>\n",
       "    <tr>\n",
       "      <th>3</th>\n",
       "      <td>harrow account psycholog breakdown</td>\n",
       "      <td>0</td>\n",
       "      <td>1</td>\n",
       "    </tr>\n",
       "    <tr>\n",
       "      <th>4</th>\n",
       "      <td>visual seduct unrepentantli trashi rice instal...</td>\n",
       "      <td>1</td>\n",
       "      <td>1</td>\n",
       "    </tr>\n",
       "  </tbody>\n",
       "</table>\n",
       "</div>"
      ],
      "text/plain": [
       "                                                Text  Sentiment  True_Labels\n",
       "0                         cast phenomen especi women          1            1\n",
       "1  metaphor provoc often viewer left puzzl mechan...          0            0\n",
       "2  there someth intrins funni sir anthoni hopkin ...          1            0\n",
       "3                 harrow account psycholog breakdown          0            1\n",
       "4  visual seduct unrepentantli trashi rice instal...          1            1"
      ]
     },
     "execution_count": 2,
     "metadata": {},
     "output_type": "execute_result"
    }
   ],
   "source": [
    "labels=[]\n",
    "texts=[]\n",
    "true_labels = []\n",
    "for index, row in df.iterrows():\n",
    "    if(row['Answer.sent']) == 'pos':\n",
    "        labels.append(1)\n",
    "    else:\n",
    "        labels.append(0)\n",
    "    texts.append(row['Input.stemmed_sent'])\n",
    "    if(row['Input.true_sent']) == 'pos':\n",
    "        true_labels.append(1)\n",
    "    else:\n",
    "        true_labels.append(0)\n",
    "\n",
    "\n",
    "df_train = pd.DataFrame({'Text': texts,'Sentiment': labels,'True_Labels':true_labels})\n",
    "\n",
    "df_train.head()"
   ]
  },
  {
   "cell_type": "markdown",
   "metadata": {},
   "source": [
    "Se crea un dataframe con los sentimientos y textos correspondientes."
   ]
  },
  {
   "cell_type": "code",
   "execution_count": 3,
   "metadata": {},
   "outputs": [],
   "source": [
    "df_text = df_train.Text\n",
    "\n",
    "df_labels = df_train.Sentiment.values\n",
    "\n",
    "df_true_labels=df_train.True_Labels.values\n"
   ]
  },
  {
   "cell_type": "code",
   "execution_count": 4,
   "metadata": {},
   "outputs": [],
   "source": [
    "from sklearn.model_selection import train_test_split\n",
    "df_train_text, df_val_text, labels_train, labels_val, true_labels_train,true_labels_val  = train_test_split(df_text, df_labels, df_true_labels,test_size= 0.3, random_state=0)\n"
   ]
  },
  {
   "cell_type": "code",
   "execution_count": 5,
   "metadata": {},
   "outputs": [],
   "source": [
    "train_texts = [text for text in df_train_text]\n",
    "val_texts = [text for text in df_val_text]"
   ]
  },
  {
   "cell_type": "markdown",
   "metadata": {},
   "source": [
    "A partir del dataframe se crea un conjunto de entrenamiento y uno de validación. Dado la cantidad de datos se utiliza un 30% para el conjunto de validación y un 70% para el de entrenamiento.\n",
    "\n",
    "Los valores reales tambien fueron divididos, con el fín de aplicar la predicción solo a las etiquetas del conjunto de validación y compararlas con las etiquetas que entregan las personas inexpertas."
   ]
  },
  {
   "cell_type": "code",
   "execution_count": 6,
   "metadata": {},
   "outputs": [],
   "source": [
    "import numpy as np\n",
    "from sklearn.feature_extraction.text import CountVectorizer\n",
    "\n",
    "vectorizer1 = CountVectorizer(ngram_range=(1, 1), binary=False)\n",
    "vectorizer1.fit(train_texts)\n",
    "features_train = vectorizer1.transform(train_texts)\n",
    "features_val = vectorizer1.transform(val_texts)\n",
    "vocab = vectorizer1.get_feature_names()\n",
    "dist1=list(np.array(features_train.sum(axis=0)).reshape(-1,))"
   ]
  },
  {
   "cell_type": "markdown",
   "metadata": {},
   "source": [
    "Dado que el proceso de normalización ya esta hecho en los textos, se procede a vectorizar usando el mismo método que en la sección 1."
   ]
  },
  {
   "cell_type": "code",
   "execution_count": 8,
   "metadata": {},
   "outputs": [
    {
     "name": "stdout",
     "output_type": "stream",
     "text": [
      "[0.0001, 0.001, 0.01, 0.1, 1, 10, 100, 1000]\n",
      "Param C=  0.0001\n",
      "Param C=  0.001\n",
      "Param C=  0.01\n",
      "Param C=  0.1\n",
      "Param C=  1\n"
     ]
    },
    {
     "name": "stderr",
     "output_type": "stream",
     "text": [
      "C:\\Users\\diego\\anaconda3\\lib\\site-packages\\sklearn\\linear_model\\_sag.py:330: ConvergenceWarning: The max_iter was reached which means the coef_ did not converge\n",
      "  \"the coef_ did not converge\", ConvergenceWarning)\n"
     ]
    },
    {
     "name": "stdout",
     "output_type": "stream",
     "text": [
      "Param C=  10\n"
     ]
    },
    {
     "name": "stderr",
     "output_type": "stream",
     "text": [
      "C:\\Users\\diego\\anaconda3\\lib\\site-packages\\sklearn\\linear_model\\_sag.py:330: ConvergenceWarning: The max_iter was reached which means the coef_ did not converge\n",
      "  \"the coef_ did not converge\", ConvergenceWarning)\n"
     ]
    },
    {
     "name": "stdout",
     "output_type": "stream",
     "text": [
      "Param C=  100\n"
     ]
    },
    {
     "name": "stderr",
     "output_type": "stream",
     "text": [
      "C:\\Users\\diego\\anaconda3\\lib\\site-packages\\sklearn\\linear_model\\_sag.py:330: ConvergenceWarning: The max_iter was reached which means the coef_ did not converge\n",
      "  \"the coef_ did not converge\", ConvergenceWarning)\n"
     ]
    },
    {
     "name": "stdout",
     "output_type": "stream",
     "text": [
      "Param C=  1000\n"
     ]
    },
    {
     "name": "stderr",
     "output_type": "stream",
     "text": [
      "C:\\Users\\diego\\anaconda3\\lib\\site-packages\\sklearn\\linear_model\\_sag.py:330: ConvergenceWarning: The max_iter was reached which means the coef_ did not converge\n",
      "  \"the coef_ did not converge\", ConvergenceWarning)\n"
     ]
    },
    {
     "data": {
      "image/png": "[encoded data removed]",
      "text/plain": [
       "<Figure size 432x288 with 1 Axes>"
      ]
     },
     "metadata": {
      "needs_background": "light"
     },
     "output_type": "display_data"
    },
    {
     "name": "stdout",
     "output_type": "stream",
     "text": [
      "La mejor acuraccy para el conjunto de entrenamiento es de 0.8362681495211616\n"
     ]
    }
   ],
   "source": [
    "from sklearn.linear_model import LogisticRegression\n",
    "import pylab\n",
    "import matplotlib.pyplot as plt\n",
    "\n",
    "def do_LOGIT(x,y,xv,yv, param):\n",
    "    print(\"Param C= \",param)\n",
    "    model= LogisticRegression(penalty='l2',solver='saga',max_iter=50)\n",
    "    model.set_params(C=param)\n",
    "    model.fit(x,y)\n",
    "    train_acc = model.score(x,y)\n",
    "    val_acc = model.score(xv,yv)\n",
    "    return model, train_acc, val_acc\n",
    "\n",
    "Cs = [10**i for i in range(-4,4)]\n",
    "print(Cs)\n",
    "list_train_acc = []\n",
    "list_val_acc= []\n",
    "for i in Cs:\n",
    "    model, train_acc, val_acc = do_LOGIT(features_train,labels_train,features_val,labels_val, i)\n",
    "    list_train_acc.append(train_acc)\n",
    "    list_val_acc.append(val_acc)\n",
    "#plt.plot(Cs,list_train_acc)\n",
    "\n",
    "plt.scatter(Cs,list_train_acc, c='r', label='Train')\n",
    "plt.scatter(Cs,list_val_acc, c= 'b', label='Validation')\n",
    "plt.legend()\n",
    "plt.xscale(\"log\")\n",
    "plt.xlim([10**-4,10**3])\n",
    "plt.show()\n",
    "\n",
    "print(\"La mejor acuraccy para el conjunto de entrenamiento es de\",max(list_train_acc))"
   ]
  },
  {
   "cell_type": "markdown",
   "metadata": {},
   "source": [
    "Se entrena el modelo utilizando regresión logística dado que fue el que presentó mejores resultados anteriormente. Además, se obtiene que utilizando un parametro \"C\" = 10 se consigue la mejor \"accuracy\", cuyo valor es de 0,84 aproximadamente. \n",
    "\n"
   ]
  },
  {
   "cell_type": "code",
   "execution_count": null,
   "metadata": {},
   "outputs": [],
   "source": [
    "from sklearn.svm import SVC as SVM #SVC is for classification\n",
    "def do_SVM(x,y,xv,yv, param, kernel='linear'):\n",
    "    print(\"Param C= \",param, 'Kernel= ', kernel)\n",
    "    model= SVM()\n",
    "    model.set_params(C=param,kernel=kernel) #try rbf and linear at least\n",
    "    model.fit(x,y)\n",
    "    train_acc = model.score(x,y)\n",
    "    test_acc = model.score(xv,yv)\n",
    "    return model, train_acc, test_acc\n",
    "\n",
    "list_train_acc = []\n",
    "list_test_acc = []\n",
    "list2_train_acc = []\n",
    "list2_test_acc = []\n",
    "\n",
    "Cs = [10**i for i in np.arange(-4,4,dtype=float)]\n",
    "for i in Cs:\n",
    "    _, train_acc, test_acc = do_SVM(features_train,labels_train,features_val,labels_val,i,'linear')\n",
    "    list_train_acc.append(train_acc)\n",
    "    list_test_acc.append(test_acc)\n",
    "    _, train_acc, test_acc = do_SVM(features_train,labels_train,features_val,labels_val,i,'rbf')\n",
    "    list2_train_acc.append(train_acc)\n",
    "    list2_test_acc.append(test_acc)\n",
    "\n",
    "def plot(Name,Cs,lista1,lista2):\n",
    "    plt.scatter(Cs,lista1,c='r',label='Train')\n",
    "    plt.scatter(Cs,lista2,c='b',label='Val')\n",
    "    pylab.legend(loc='upper left')\n",
    "    plt.xscale(\"log\")\n",
    "    plt.xlim([10**-4,10**3])\n",
    "    plt.title(Name)\n",
    "    plt.show()\n",
    "\n",
    "plot('Linear',Cs,list_train_acc,list_test_acc)\n",
    "plot('Rbf',Cs,list2_train_acc,list2_test_acc)\n",
    "print(\"La mejor acuraccy para Kernel Lineal es de\",max(list_train_acc))\n",
    "print(\"La mejor acuraccy para Kernel RBF es de \",max(list2_train_acc))"
   ]
  },
  {
   "cell_type": "markdown",
   "metadata": {},
   "source": [
    "Se intenta ejecutar con SVM pero al ser una gran cantidad de datos tarda mas de 10 minutos en realizar todas las iteraciones, por lo que se descarto utilizarlo."
   ]
  },
  {
   "cell_type": "code",
   "execution_count": 9,
   "metadata": {},
   "outputs": [
    {
     "name": "stdout",
     "output_type": "stream",
     "text": [
      "Param K=  1\n",
      "0.7888991864895479\n",
      "0.7198462277751081\n",
      "Param K=  11\n",
      "0.7364843991350015\n",
      "0.6714320038443056\n",
      "Param K=  21\n",
      "0.6975079806405108\n",
      "0.6558145122537242\n",
      "Param K=  31\n",
      "0.6839151477705695\n",
      "0.6468044209514656\n",
      "Param K=  41\n",
      "0.6835032437442076\n",
      "0.643320518981259\n",
      "Param K=  51\n",
      "0.6788693234476367\n",
      "0.6415185007208073\n",
      "Param K=  61\n",
      "0.6682627947688189\n",
      "0.6322681403171552\n",
      "Param K=  71\n",
      "0.6577077540932963\n",
      "0.6226573762614128\n",
      "Param K=  81\n",
      "0.6472556894243642\n",
      "0.615929841422393\n",
      "Param K=  91\n",
      "0.644114921223355\n",
      "0.6118452666987025\n"
     ]
    },
    {
     "data": {
      "image/png": "[encoded data removed]",
      "text/plain": [
       "<Figure size 432x288 with 1 Axes>"
      ]
     },
     "metadata": {
      "needs_background": "light"
     },
     "output_type": "display_data"
    }
   ],
   "source": [
    "from sklearn.neighbors import KNeighborsClassifier\n",
    "def do_KNN(x,y,xv,yv, param):\n",
    "    model = KNeighborsClassifier()\n",
    "    print(\"Param K= \",param)\n",
    "    model.set_params(n_neighbors=param)\n",
    "    model.fit(x,y)\n",
    "    train_acc = model.score(x,y)\n",
    "    test_acc = model.score(xv,yv)\n",
    "    return model, train_acc, test_acc\n",
    "\n",
    "Ks = np.arange(1, 100, 10) \n",
    "list_train_acc = []\n",
    "list_test_acc = []\n",
    "for i in Ks:\n",
    "    _, train_acc, test_acc = do_KNN(features_train,labels_train,features_val,labels_val,i)\n",
    "    list_train_acc.append(train_acc)\n",
    "    list_test_acc.append(test_acc)\n",
    "    print(train_acc)\n",
    "    print(test_acc)\n",
    "\n",
    "plt.scatter(Ks,list_train_acc,c='r',label='Train')\n",
    "plt.scatter(Ks,list_test_acc,c='b',label='Val')\n",
    "pylab.legend(loc='upper right')\n",
    "plt.show()"
   ]
  },
  {
   "cell_type": "markdown",
   "metadata": {},
   "source": [
    "En el conjunto de entrenamiento se puede observar que, a medida que aumenta la cantidad de vecinos involucrados en la clasificación, disminuye la accuracy. El motivo de esto es el mismo que fue descrito en la sección 1. La mejor acuraccy obtenida fue de 0.78 aproximadamente.\n"
   ]
  },
  {
   "cell_type": "code",
   "execution_count": 10,
   "metadata": {},
   "outputs": [
    {
     "name": "stdout",
     "output_type": "stream",
     "text": [
      "Se obtiene un acuraccy score de 0.861604997597309\n"
     ]
    },
    {
     "name": "stderr",
     "output_type": "stream",
     "text": [
      "C:\\Users\\diego\\anaconda3\\lib\\site-packages\\sklearn\\linear_model\\_sag.py:330: ConvergenceWarning: The max_iter was reached which means the coef_ did not converge\n",
      "  \"the coef_ did not converge\", ConvergenceWarning)\n"
     ]
    }
   ],
   "source": [
    "from sklearn.metrics import accuracy_score\n",
    "\n",
    "#Se utiliza un modelo de Regresión logistica con los mejores parametros obtenidos según el gráfico.\n",
    "model= LogisticRegression(penalty='l2',solver='saga',max_iter=50)\n",
    "model.set_params(C=10)\n",
    "#Se entrena utilizando el conjunto de entrenamiento\n",
    "model.fit(features_train,labels_train)\n",
    "#Se predicen los valores del conjunto de validación del dataframe\n",
    "y_pred = model.predict(features_val)\n",
    "#Se compara la predicción con los verdaderos valores de cada texto del conjunto de validación\n",
    "print(\"Se obtiene un acuraccy score de\",accuracy_score(true_labels_val, y_pred))"
   ]
  },
  {
   "cell_type": "markdown",
   "metadata": {},
   "source": [
    "A partir de los resultados de los tres modelos anteriores, se aplica el modelo de Regresión Logística con parametro C=10, dado que es el mejor, para poder predecir el sentimiento de cada texto del conjunto de validación y luego se compara con el real (Input.true_sent) mediante la función de accuracy_score."
   ]
  },
  {
   "cell_type": "markdown",
   "metadata": {},
   "source": [
    "A partir del accuracy obtenido, se puede concluir que al utilizar la calificación de muchas personas inexpertas respecto al análisis sentimental de reseñas, se obtiene un modelo predictivo bastante preciso en comparación a la evaluación de un experto en el tema. Esto es ventajoso dado que se obtiene una aproximación bastante cercana sin los costos de reclutar a un experto y también al existir una mayor cantidad de personas inexpertas, es posible conseguir una mayor cantidad de datos etiquetados al venir estos de muchas fuente y no solo del reducido grupo de personas que son expertas en un dominio en particular. \n",
    "Otro punto importante a mencionar, es que el ámbito del análisis sentimental de una reseña tiene buenos resultados al ser evaluado por personas inexpertas, dado que es fácil de estimar para una persona común la intención detrás de una opinión. Sin embargo, en ámbitos donde se requiera conocimientos más refinados para etiquetar un dato sería más riesgoso el utilizar esta técnica y se podría esperar una accuracy menor."
   ]
  },
  {
   "cell_type": "markdown",
   "metadata": {},
   "source": [
    "<a id=\"refs\"></a>\n",
    "## Referencias\n",
    "[1] Keras: Deep Learning library for Theano and TensorFlow. https://keras.io/  \n",
    "[2] https://www.kaggle.com/c/sentiment-analysis-on-movie-reviews  \n",
    "[3] https://en.wikipedia.org/wiki/Stopwords  \n",
    "[4] https://en.wikipedia.org/wiki/Lemmatisation  \n",
    "[5] Landauer, T. K., Foltz, P. W., & Laham, D. (1998). *An introduction to latent semantic analysis*. Discourse processes, 25(2-3), 259-284.  \n",
    "[6] https://github.com/cjhutto/vaderSentiment  \n",
    "[7] https://en.wikipedia.org/wiki/Stemming  \n",
    "[8] Rodrigues, F., Pereira, F., & Ribeiro, B. (2013). *Learning from multiple annotators: distinguishing good from random labelers*. Pattern Recognition Letters, 34(12), 1428-1436."
   ]
  }
 ],
 "metadata": {
  "kernelspec": {
   "display_name": "Python 3",
   "language": "python",
   "name": "python3"
  },
  "language_info": {
   "codemirror_mode": {
    "name": "ipython",
    "version": 3
   },
   "file_extension": ".py",
   "mimetype": "text/x-python",
   "name": "python",
   "nbconvert_exporter": "python",
   "pygments_lexer": "ipython3",
   "version": "3.7.6"
  }
 },
 "nbformat": 4,
 "nbformat_minor": 2
}
