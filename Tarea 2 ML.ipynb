{
 "cells": [
  {
   "cell_type": "markdown",
   "metadata": {},
   "source": [
    "<img src=\"http://www.exalumnos.usm.cl/wp-content/uploads/2015/06/Isotipo-Negro.gif\" title=\"Title text\" width=\"20%\" height=\"20%\" />\n",
    "\n",
    "\n",
    "<hr style=\"height:2px;border:none\"/>\n",
    "<h1 align='center'> INF-393 Máquinas de Aprendizaje II-2018 </h1>\n",
    "<h2 align='center'> Maria Apolo Rol: 201573509-3 </h1>\n",
    "<h2 align='center'> Diego Gutierrez Rol: 201573558-1 </h1>\n",
    "<h2 align='center'> Profesor: Ricardo Ñanculef </h1>\n",
    "<H3 align='center'> Tarea 2 - Fronteras no Lineales </H3>\n",
    "<hr style=\"height:2px;border:none\"/>\n",
    "\n",
    "**Temas**  \n",
    "* similaridad: KNN\n",
    "* Selección de hı́per-parámetros estructurales en SVM, Arboles de Decisión, k-NN y Redes Neuronales.\n",
    "* Métodos de *kernel*.\n",
    "* Extracción de características.\n",
    "* Múltiples anotaciones\n",
    "\n",
    "** Formalidades **  \n",
    "* Equipos de trabajo de: 2 personas (*cada uno debe estar en condiciones de realizar una presentación y discutir sobre cada punto del trabajo realizado*)\n",
    "* Se debe preparar una presentación de 20 minutos. Presentador será elegido aleatoriamente.\n",
    "* Se debe preparar un (breve) Jupyter/IPython notebook que explique la actividad realizada y las conclusiones del trabajo\n",
    "* Fecha de discusión y entrega: 8 de Noviembre.\n",
    "* Formato de entrega: envı́o de link Github al correo electrónico del ayudante (*<francisco.mena.13@sansano.usm.cl>*) , incluyendo al profesor en copia (*<jnancu@inf.utfsm.cl>*). Por favor especificar el siguiente asunto: [Tarea2-INF393-II-2018]\n",
    "\n",
    "<hr style=\"height:2px;border:none\"/>\n",
    "\n",
    "### Paquetes de instalación\n",
    "\n",
    "Como es usual utilizaremos *numpy, scipy, matplotlib* y *sklearn*. Además de éstas se necesitará instalar **keras**, una librerı́a en python para prototipado rápido de modelos basados en redes neuronales, muy similar en espı́ritu a *sklearn*. La librerı́a puede usar *TensorFlow* o *Theano* como backend, siendo éstas las librerı́as más populares para desarrollar nuevos modelos de redes neuronales o implementar eficientemente modelos conocidos con fines prácticos. Para detalles sobre la instalación puede revisar [[1]](#refs) o escribir un email a su ayudante.\n",
    "\n",
    "\n",
    "\n",
    "La tarea se divide en secciones:\n",
    "\n",
    "[1.](#primero) Sentiment Analysis en Texto  \n",
    "[2.](#segundo) pendiente\n"
   ]
  },
  {
   "cell_type": "markdown",
   "metadata": {},
   "source": [
    "<a id=\"primero\"></a>\n",
    "## 1. Sentiment Analysis en Texto\n",
    "\n",
    "El análisis de emociones o sentimientos se refiere al proceso de extraer información acerca de la actitud\n",
    "que una persona (o grupo de ellas) manifiesta, en un determinado medio o formato digital, con respecto a un\n",
    "tópico o contexto de comunicación. Uno de los casos más estudiados corresponde a determinar la polaridad\n",
    "de un trozo de texto, es decir, clasificar una determinada evaluación escrita (*review*), en que una persona\n",
    "manifiesta una opinión, como *positiva*, *negativa* o *neutral*. Esto también ha sido extendido a otros medios, como lo es analizar la polaridad de textos en redes sociales.  La dificultad de este problema radica en el carácter altamente ambiguo e informal del lenguaje que utilizan naturalmente las personas ası́ como el manejo de negaciones, sarcasmo y abreviaciones en una frase.\n",
    "\n",
    "<img src=\"https://formtitanhelpdeskimage.s3.amazonaws.com/70c78f9df2fd5c130e7021644f78f4c5.jpg\" title=\"Title text\" width=\"40%\" />\n",
    "\n",
    "\n",
    "Los datos que usaremos para esta actividad corresponden a un subconjunto de los datos publicados en **Kaggle**,  en  el  contexto  de  una  competencia  organizada  por  la  Universidad  de  Stanford  [[2]](#refs).   Cada  registro disponible corresponderá a una opinión sobre una película, registrada sobre el sitio *Rotten Tomatoes*.  Para empezar  nos  limitaremos  a  estudiar  textos  anotados  como  positivos  o  negativos,  clases  que  codificaremos como +1 y 0 respectivamente. Los datos pueden ser descargados ejecutando el siguiente código en sistema Unix:\n",
    "```\n",
    "wget -O train_data.csv http://www.inf.utfsm.cl/~jnancu/stanford-subset/polarity.train\n",
    "wget -O test_data.csv http://www.inf.utfsm.cl/~jnancu/stanford-subset/polarity.dev\n",
    "```\n",
    "\n",
    "> Cargue los dos conjuntos de datos a ser trabajados, donde la etiqueta ya viene codificada y la dejaremos como negativo (0) y positivo (1).\n"
   ]
  },
  {
   "cell_type": "code",
   "execution_count": 1,
   "metadata": {},
   "outputs": [],
   "source": [
    "import pandas as pd\n",
    "ftr = open(\"train_data.csv\", \"r\",  encoding=\"ISO-8859-1\")\n",
    "rows = [line.split(\" \",1) for line in ftr.readlines()]\n",
    "df_train = pd.DataFrame(rows, columns=['Sentiment','Text'])\n",
    "df_train['Sentiment'] = (pd.to_numeric(df_train['Sentiment'])+1)/2 # 0 o 1\n",
    "fts = open(\"test_data.csv\", \"r\",  encoding=\"ISO-8859-1\")\n",
    "rows2 = [line.split(\" \",1) for line in fts.readlines()]\n",
    "df_test = pd.DataFrame(rows2, columns=['Sentiment','Text'])\n",
    "df_test['Sentiment'] = (pd.to_numeric(df_test['Sentiment'])+1)/2 # 0 o 1\n",
    "df_train_text = df_train.Text\n",
    "df_test_text = df_test.Text\n",
    "labels_train = df_train.Sentiment.values\n",
    "labels_test = df_test.Sentiment.values"
   ]
  },
  {
   "cell_type": "markdown",
   "metadata": {},
   "source": [
    "\n",
    "> a) Describa los datos trabajados, como la cantidad de datos en cada conjunto, largo de los textos, la cantidad de ejemplo por cada clase, o alguna otra forma que piense que pueda ser útil para comprender el problema trabajado.\n",
    "```python\n",
    "df_train_sentiment.shape\n",
    "```"
   ]
  },
  {
   "cell_type": "code",
   "execution_count": 2,
   "metadata": {},
   "outputs": [
    {
     "data": {
      "text/html": [
       "<div>\n",
       "<style scoped>\n",
       "    .dataframe tbody tr th:only-of-type {\n",
       "        vertical-align: middle;\n",
       "    }\n",
       "\n",
       "    .dataframe tbody tr th {\n",
       "        vertical-align: top;\n",
       "    }\n",
       "\n",
       "    .dataframe thead th {\n",
       "        text-align: right;\n",
       "    }\n",
       "</style>\n",
       "<table border=\"1\" class=\"dataframe\">\n",
       "  <thead>\n",
       "    <tr style=\"text-align: right;\">\n",
       "      <th></th>\n",
       "      <th>Sentiment</th>\n",
       "      <th>Text</th>\n",
       "    </tr>\n",
       "  </thead>\n",
       "  <tbody>\n",
       "    <tr>\n",
       "      <th>0</th>\n",
       "      <td>0.0</td>\n",
       "      <td>everything's serious , poetic , earnest and --...</td>\n",
       "    </tr>\n",
       "    <tr>\n",
       "      <th>1</th>\n",
       "      <td>0.0</td>\n",
       "      <td>narratively , trouble every day is a plodding ...</td>\n",
       "    </tr>\n",
       "    <tr>\n",
       "      <th>2</th>\n",
       "      <td>1.0</td>\n",
       "      <td>a truly wonderful tale combined with stunning ...</td>\n",
       "    </tr>\n",
       "    <tr>\n",
       "      <th>3</th>\n",
       "      <td>1.0</td>\n",
       "      <td>jason patric and ray liotta make for one splen...</td>\n",
       "    </tr>\n",
       "    <tr>\n",
       "      <th>4</th>\n",
       "      <td>0.0</td>\n",
       "      <td>haneke keeps us at arm's length . guided more ...</td>\n",
       "    </tr>\n",
       "  </tbody>\n",
       "</table>\n",
       "</div>"
      ],
      "text/plain": [
       "   Sentiment                                               Text\n",
       "0        0.0  everything's serious , poetic , earnest and --...\n",
       "1        0.0  narratively , trouble every day is a plodding ...\n",
       "2        1.0  a truly wonderful tale combined with stunning ...\n",
       "3        1.0  jason patric and ray liotta make for one splen...\n",
       "4        0.0  haneke keeps us at arm's length . guided more ..."
      ]
     },
     "execution_count": 2,
     "metadata": {},
     "output_type": "execute_result"
    }
   ],
   "source": [
    "df_train.head()"
   ]
  },
  {
   "cell_type": "code",
   "execution_count": 3,
   "metadata": {},
   "outputs": [
    {
     "name": "stdout",
     "output_type": "stream",
     "text": [
      "Tamaño de dataset de train:  (3554, 2)\n",
      "Tamaño de dataset de test:  (3554, 2)\n",
      "Cantidad de opiniones positivas para el train set:  1770\n",
      "Cantidad de opiniones negativas para el train set:  1784\n",
      "Cantidad de opiniones positivas para el test set:  1751\n",
      "Cantidad de opiniones negativas para el test set:  1803\n"
     ]
    }
   ],
   "source": [
    "print(\"Tamaño de dataset de train: \", df_train.shape)\n",
    "print(\"Tamaño de dataset de test: \", df_test.shape)\n",
    "print(\"Cantidad de opiniones positivas para el train set: \",df_train.loc[df_train['Sentiment'] == 1].shape[0])\n",
    "print(\"Cantidad de opiniones negativas para el train set: \",df_train.loc[df_train['Sentiment'] == 0].shape[0])\n",
    "print(\"Cantidad de opiniones positivas para el test set: \",df_test.loc[df_test['Sentiment'] == 1].shape[0])\n",
    "print(\"Cantidad de opiniones negativas para el test set: \",df_test.loc[df_test['Sentiment'] == 0].shape[0])"
   ]
  },
  {
   "cell_type": "markdown",
   "metadata": {},
   "source": [
    "El dataset corresponde a una clasificación binaria del análisis sentimental de opiniones vertidas en la plataforma Rotten Tomatoes para diferentes películas. Estas opiniones están codificadas como \"1\" y \"0\" para opiniones positivas y negativas respectivamente. Observando la cantidad de opiniones para cada clase, se aprecia que ambos conjuntos (de train y test) están balanceados, dado que hay cantidades similares de opiniones positivas y negativas. "
   ]
  },
  {
   "cell_type": "markdown",
   "metadata": {},
   "source": [
    "> b) Construya un conjunto de validación desde el conjunto de entrenamiento para seleccionar modelos. Decida el tamaño dada la cantidad de ejemplos que se tienen para entrenamiento.\n"
   ]
  },
  {
   "cell_type": "code",
   "execution_count": 4,
   "metadata": {},
   "outputs": [],
   "source": [
    "from sklearn.model_selection import train_test_split\n",
    "df_train_text, df_val_text, labels_train, labels_val  = train_test_split(df_train_text, labels_train, test_size= 0.3, random_state=0)\n"
   ]
  },
  {
   "cell_type": "markdown",
   "metadata": {},
   "source": [
    "> c) Realice un pre-procesamiento a los textos para normalizar un poco su estructura, para ello utilice el código de ejemplo a continuación, donde se pasa el texto a minúsculas (*lower-casing*), se reducen las mútliples letras, se eliminan palabras sin significados como artículos, pronombres y preposiciones (*stop word removal* [[3]](#refs)), además de pasar las palabras a su tronco léxico con la técnica de *lemmatizer* [[4]](#refs). Comente la importancia de un correcto pre-procesamiento en el domino de lenguaje natural.\n",
    "\n"
   ]
  },
  {
   "cell_type": "code",
   "execution_count": 5,
   "metadata": {},
   "outputs": [],
   "source": [
    "\n",
    "import re, time\n",
    "from nltk.corpus import stopwords\n",
    "from nltk import WordNetLemmatizer, word_tokenize\n",
    "\n",
    "def base_word(word):\n",
    "    wordlemmatizer = WordNetLemmatizer()\n",
    "    return wordlemmatizer.lemmatize(word) \n",
    "\n",
    "def word_extractor(text):\n",
    "    commonwords = stopwords.words('english')\n",
    "    text = re.sub(r'([a-z])\\1+', r'\\1\\1',text) #substitute multiple letter by two\n",
    "    words = \"\"\n",
    "    wordtokens = [ base_word(word.lower()) for word in word_tokenize(text) if len(word)>3]\n",
    "    for word in wordtokens:\n",
    "        if word not in commonwords: #delete stopwords\n",
    "            words+=\" \"+word\n",
    "    #print(words)\n",
    "    return words\n",
    "\n",
    "word_extractor(\"I love to eat cake\")\n",
    "word_extractor(\"I love eating cake\")\n",
    "word_extractor(\"I loved eating the cake\")\n",
    "word_extractor(\"I do not love eating cake\")\n",
    "word_extractor(\"I don't love eating cake\")\n",
    "\n",
    "texts_train = [word_extractor(text) for text in df_train_text]\n",
    "texts_val = [word_extractor(text) for text in df_val_text]\n",
    "texts_test = [word_extractor(text) for text in df_test_text]\n"
   ]
  },
  {
   "cell_type": "markdown",
   "metadata": {},
   "source": [
    "Se utiliza un preprocesamiento en el texto para estructurarlo de tal forma que se eliminen elementos como la puntuación, los números, las stopwords, se pase el texto a minúsculas y se realice el proceso de lematización, que agrupe palabras que tengan una raíz en común en un solo ítem, como podrían ser distintas conjugaciones para un mismo verbo. Esto se realiza con la finalidad de reducir el vocabulario y que textos diferentes tengan una misma estructura en común. "
   ]
  },
  {
   "cell_type": "markdown",
   "metadata": {},
   "source": [
    "> d) Construya una representación vectorial a los textos de entrada para poder ser manejados y clasificados por los modelos de aprendizaje. Para ésto utilice el tipo de característica más común, que consiste en contar cuántas veces aparece cada términos/palabras en el texto, denominado **TF** (*term-frequency*). Para esto, se necesita contar con un vocabulario base, el cual se construirá a través de la unión de todas las palabras que observemos en los textos de entrenamiento ¿Cuáles son las palabras más frecuentes?\n"
   ]
  },
  {
   "cell_type": "code",
   "execution_count": 6,
   "metadata": {},
   "outputs": [
    {
     "name": "stdout",
     "output_type": "stream",
     "text": [
      "Palabras mas repetidas para el conjunto de entrenamiento:\n",
      " [('film', 423), ('movie', 349), ('like', 166), ('make', 141), ('story', 128), ('character', 120), ('good', 105), ('even', 104), ('comedy', 95), ('time', 93)]\n",
      "\n",
      "Palabras mas repetidas para el conjunto de test:\n",
      " [('film', 581), ('movie', 568), ('like', 239), ('story', 204), ('character', 178), ('time', 176), ('make', 167), ('good', 142), ('comedy', 138), ('doe', 134)]\n",
      "\n",
      "Palabras mas repetidas para el conjunto de validacion:\n",
      " [('film', 161), ('movie', 154), ('like', 89), ('time', 55), ('comedy', 52), ('doe', 50), ('good', 49), ('story', 49), ('character', 45), ('make', 45)]\n"
     ]
    }
   ],
   "source": [
    "import numpy as np\n",
    "from sklearn.feature_extraction.text import CountVectorizer\n",
    "\n",
    "vectorizer1 = CountVectorizer(ngram_range=(1, 1), binary=False) #TF representation\n",
    "vectorizer1.fit(texts_train)\n",
    "features_train = vectorizer1.transform(texts_train)\n",
    "features_test = vectorizer1.transform(texts_test)\n",
    "features_val = vectorizer1.transform(texts_val)\n",
    "vocab = vectorizer1.get_feature_names()\n",
    "dist1=list(np.array(features_train.sum(axis=0)).reshape(-1,))\n",
    "lista = zip(vocab, dist1)\n",
    "print(\"Palabras mas repetidas para el conjunto de entrenamiento:\\n\",sorted((lista),key=lambda x: x[1],reverse=True)[:10])\n",
    "dist2=list(np.array(features_test.sum(axis=0)).reshape(-1,))\n",
    "lista2 = zip(vocab, dist2)\n",
    "print(\"\\nPalabras mas repetidas para el conjunto de test:\\n\",sorted((lista2),key=lambda x: x[1],reverse=True)[:10])\n",
    "dist3=list(np.array(features_val.sum(axis=0)).reshape(-1,))\n",
    "lista3 = zip(vocab, dist3)\n",
    "print(\"\\nPalabras mas repetidas para el conjunto de validacion:\\n\",sorted((lista3),key=lambda x: x[1],reverse=True)[:10])"
   ]
  },
  {
   "cell_type": "code",
   "execution_count": 7,
   "metadata": {},
   "outputs": [
    {
     "data": {
      "text/plain": [
       "<Figure size 640x480 with 1 Axes>"
      ]
     },
     "metadata": {},
     "output_type": "display_data"
    }
   ],
   "source": [
    "from nltk.probability import FreqDist\n",
    "from nltk.tokenize import word_tokenize\n",
    "#Cambien la variable texto por sus varibles\n",
    "\n",
    "#Para realizar una gráfica de distribución de frecuencia para el train set\n",
    "#Se genera un conjunto con los tokens\n",
    "\n",
    "train_tokens = []\n",
    "commonwords = stopwords.words('english')\n",
    "for text in df_train[\"Text\"]:\n",
    "    tokenized_words=word_tokenize(text)\n",
    "    words = [word.lower() for word in tokenized_words if len(word)>3]\n",
    "    texto_words = [word for word in words if word not in commonwords]\n",
    "    train_tokens.extend(texto_words)\n",
    "\n",
    "#Se realiza la gráfica con los tokens para el train set\n",
    "\n",
    "fd = FreqDist(train_tokens)\n",
    "fd.plot(30,cumulative=False)\n"
   ]
  },
  {
   "cell_type": "markdown",
   "metadata": {},
   "source": [
    "Para complementar lo anterior, se realiza una gráfica de distribución de frecuencias para los tokens del dataset de entrenamiento. Para facilitar la visibilidad de las palabras, se graficaron solamente las 30 más frecuentes. Acá se puede observar que las palabras graficadas se corresponden con las mostradas anteriormente y que, tal como es esperable, las palabras más mencionadas están relacionadas con el cine y películas. Además, se aprecia que se cumple la Ley de Zipf. "
   ]
  },
  {
   "cell_type": "markdown",
   "metadata": {},
   "source": [
    "> e) Para tener una visión distinta y entender mejor la representación vectorial realizada, visualice los datos en un plano 2D. Para ésto utilice la técnica **LSA** (*Latent Semantic Analysis*) [[5]](#refs) que a diferencia de PCA, **no centra** los datos antes de realizar la descomposicipon SVD, de ésta manera podrá visualizar el espacio semántico de \"conceptos\" latentes usados en la representación. Coloree cada texto en base a su clase ¿Qué indica lo observado? Comente e interprete los resultados\n"
   ]
  },
  {
   "cell_type": "code",
   "execution_count": 8,
   "metadata": {},
   "outputs": [
    {
     "data": {
      "image/png": "[encoded data removed]",
      "text/plain": [
       "<Figure size 720x360 with 1 Axes>"
      ]
     },
     "metadata": {
      "needs_background": "light"
     },
     "output_type": "display_data"
    }
   ],
   "source": [
    "from sklearn.decomposition import TruncatedSVD\n",
    "import matplotlib.pyplot as plt\n",
    "model = TruncatedSVD(n_components=2)\n",
    "model.fit(features_train)\n",
    "x_plot = model.transform(features_train)\n",
    "plt.figure(figsize=(10,5))\n",
    "plt.scatter(x_plot[:,0], x_plot[:,1], c=labels_train)\n",
    "plt.show()"
   ]
  },
  {
   "cell_type": "markdown",
   "metadata": {},
   "source": [
    "A partir de la gráfica anterior, se puede observar una descomposición de los datos en 6 agrupaciones semánticas, donde se destacan 3 de ellas con una mayor cantidad de elementos. En cada agrupación semántica se puede observar que está equilibrada la cantidad de opiniones positivas y negativas recibidas, al tener una cantidad similar de puntos amarillos y morados en cada componente. "
   ]
  },
  {
   "cell_type": "markdown",
   "metadata": {},
   "source": []
  },
  {
   "cell_type": "markdown",
   "metadata": {},
   "source": [
    "> f) Entrene un modelo de Regresión Logística Regularizado (utilizando como penalizador la norma $l_2$). Varíe el parámetro de regularización $C$, en potencias de 10, midiendo el error de predicción obtenido sobre los datos de entrenamiento y validación, construya un gráfico que muestre la variación de ambos errores respecto al parámetro $C$. Explique el significado y valor esperado del parámetro de regularización."
   ]
  },
  {
   "cell_type": "code",
   "execution_count": 9,
   "metadata": {},
   "outputs": [
    {
     "name": "stdout",
     "output_type": "stream",
     "text": [
      "Param C=  0.0001\n",
      "Param C=  0.001\n",
      "Param C=  0.01\n",
      "Param C=  0.1\n",
      "Param C=  1.0\n",
      "Param C=  10.0\n",
      "Param C=  100.0\n",
      "Param C=  1000.0\n"
     ]
    },
    {
     "name": "stderr",
     "output_type": "stream",
     "text": [
      "C:\\Users\\Diego\\Anaconda3\\lib\\site-packages\\sklearn\\linear_model\\logistic.py:433: FutureWarning: Default solver will be changed to 'lbfgs' in 0.22. Specify a solver to silence this warning.\n",
      "  FutureWarning)\n"
     ]
    },
    {
     "data": {
      "image/png": "[encoded data removed]",
      "text/plain": [
       "<Figure size 432x288 with 1 Axes>"
      ]
     },
     "metadata": {
      "needs_background": "light"
     },
     "output_type": "display_data"
    }
   ],
   "source": [
    "from sklearn.linear_model import LogisticRegression\n",
    "import pylab\n",
    "def do_LOGIT(x,y,xv,yv, param):\n",
    "    print(\"Param C= \",param)\n",
    "    model= LogisticRegression()\n",
    "    model.set_params(C=param)\n",
    "    model.fit(x,y)\n",
    "    train_acc = model.score(x,y)\n",
    "    val_acc = model.score(xv,yv)\n",
    "    return model, train_acc, val_acc\n",
    "\n",
    "Cs = [10**i for i in np.arange(-4,4, dtype=float)]\n",
    "list_train_acc = []\n",
    "list_val_acc= []\n",
    "for i in Cs:\n",
    "    model, train_acc, val_acc = do_LOGIT(features_train,labels_train,features_val,labels_val, i)\n",
    "    list_train_acc.append(train_acc)\n",
    "    list_val_acc.append(val_acc)\n",
    "#plt.plot(Cs,list_train_acc)\n",
    "\n",
    "plt.scatter(Cs,list_train_acc, c='r', label='Train')\n",
    "plt.scatter(Cs,list_val_acc, c= 'b', label='Validation')\n",
    "plt.legend()\n",
    "plt.xscale(\"log\")\n",
    "plt.xlim([10**-4,10**3])\n",
    "plt.show()\n"
   ]
  },
  {
   "cell_type": "markdown",
   "metadata": {},
   "source": [
    "En la gráfica se modelo la accuracy del modelo en función del parámetro de regularización C, aplicado al conjunto de entrenamiento (puntos rojos) y al conjunto de validación (puntos azules). Cabe mencionar que el conjunto de validación se obtuvo extrayendo un 30% de los datos del conjunto de entrenamiento y dejando el 70% restante para entrenar. \n",
    "Al observar la gráfica, se puede distinguir que el modelo de regresión logística regularizado aplicado al conjunto de entrenamiento tiene una mayor accuracy para cualquier valor de C graficado. Por otro lado, se distingue que la accuracy aumenta a medida que aumenta el valor del parámetro C. En el caso del conjunto de validación, la mayor accuracy se obtiene para C = 1. "
   ]
  },
  {
   "cell_type": "markdown",
   "metadata": {},
   "source": [
    "> g) Entrene una Máquina de Soporte Vectorial (SVM) con distintos kernels. Similar a lo anterior, construya un gráfico que muestre la variación de ambos errores respecto al parámetro de regularización $C$ para cada tipo de kernel que experimente. Explique el significado y valor esperado de los parámetros en este modelo.\n"
   ]
  },
  {
   "cell_type": "code",
   "execution_count": 10,
   "metadata": {},
   "outputs": [
    {
     "name": "stdout",
     "output_type": "stream",
     "text": [
      "Param C=  0.0001 Kernel=  linear\n",
      "Param C=  0.0001 Kernel=  rbf\n"
     ]
    },
    {
     "name": "stderr",
     "output_type": "stream",
     "text": [
      "C:\\Users\\Diego\\Anaconda3\\lib\\site-packages\\sklearn\\svm\\base.py:196: FutureWarning: The default value of gamma will change from 'auto' to 'scale' in version 0.22 to account better for unscaled features. Set gamma explicitly to 'auto' or 'scale' to avoid this warning.\n",
      "  \"avoid this warning.\", FutureWarning)\n"
     ]
    },
    {
     "name": "stdout",
     "output_type": "stream",
     "text": [
      "Param C=  0.001 Kernel=  linear\n",
      "Param C=  0.001 Kernel=  rbf\n",
      "Param C=  0.01 Kernel=  linear\n",
      "Param C=  0.01 Kernel=  rbf\n",
      "Param C=  0.1 Kernel=  linear\n",
      "Param C=  0.1 Kernel=  rbf\n",
      "Param C=  1.0 Kernel=  linear\n",
      "Param C=  1.0 Kernel=  rbf\n",
      "Param C=  10.0 Kernel=  linear\n",
      "Param C=  10.0 Kernel=  rbf\n",
      "Param C=  100.0 Kernel=  linear\n",
      "Param C=  100.0 Kernel=  rbf\n",
      "Param C=  1000.0 Kernel=  linear\n",
      "Param C=  1000.0 Kernel=  rbf\n"
     ]
    },
    {
     "data": {
      "image/png": "[encoded data removed]",
      "text/plain": [
       "<Figure size 432x288 with 1 Axes>"
      ]
     },
     "metadata": {
      "needs_background": "light"
     },
     "output_type": "display_data"
    },
    {
     "data": {
      "image/png": "[encoded data removed]",
      "text/plain": [
       "<Figure size 432x288 with 1 Axes>"
      ]
     },
     "metadata": {
      "needs_background": "light"
     },
     "output_type": "display_data"
    }
   ],
   "source": [
    "from sklearn.svm import SVC as SVM #SVC is for classification\n",
    "def do_SVM(x,y,xv,yv, param, kernel='linear'):\n",
    "    print(\"Param C= \",param, 'Kernel= ', kernel)\n",
    "    model= SVM()\n",
    "    model.set_params(C=param,kernel=kernel) #try rbf and linear at least\n",
    "    model.fit(x,y)\n",
    "    train_acc = model.score(x,y)\n",
    "    test_acc = model.score(xv,yv)\n",
    "    return model, train_acc, test_acc\n",
    "\n",
    "list_train_acc = []\n",
    "list_test_acc = []\n",
    "list2_train_acc = []\n",
    "list2_test_acc = []\n",
    "\n",
    "Cs = [10**i for i in np.arange(-4,4,dtype=float)]\n",
    "for i in Cs:\n",
    "    _, train_acc, test_acc = do_SVM(features_train,labels_train,features_val,labels_val,i,'linear')\n",
    "    list_train_acc.append(train_acc)\n",
    "    list_test_acc.append(test_acc)\n",
    "    _, train_acc, test_acc = do_SVM(features_train,labels_train,features_val,labels_val,i,'rbf')\n",
    "    list2_train_acc.append(train_acc)\n",
    "    list2_test_acc.append(test_acc)\n",
    "\n",
    "def plot(Name,Cs,lista1,lista2):\n",
    "    plt.scatter(Cs,lista1,c='r',label='Train')\n",
    "    plt.scatter(Cs,lista2,c='b',label='Val')\n",
    "    pylab.legend(loc='upper left')\n",
    "    plt.xscale(\"log\")\n",
    "    plt.xlim([10**-4,10**3])\n",
    "    plt.title(Name)\n",
    "    plt.show()\n",
    "\n",
    "plot('Linear',Cs,list_train_acc,list_test_acc)\n",
    "plot('Rbf',Cs,list2_train_acc,list2_test_acc)"
   ]
  },
  {
   "cell_type": "markdown",
   "metadata": {},
   "source": [
    "A partir de los gráficos, se puede observar que SVM con kernel lineal tiene mayor accuracy que SVM con kernel RBF o gaussiano, lo cual podríamos atribuir a que los datos originales son linealmente separables.  "
   ]
  },
  {
   "cell_type": "markdown",
   "metadata": {},
   "source": [
    "> h) Utilice el algoritmo de similaridad k-NN para intentar resolver el problema. Varíe el parámetro de los vecinos $k$ en un rango que estime conveniente y realice graficos de errores como en las preguntas anteriores. Comente sobre el valor esperado de este parámetro.\n"
   ]
  },
  {
   "cell_type": "code",
   "execution_count": 11,
   "metadata": {},
   "outputs": [
    {
     "name": "stdout",
     "output_type": "stream",
     "text": [
      "Param K=  1\n",
      "1.0\n",
      "0.5604498594189316\n",
      "Param K=  11\n",
      "0.584238037796542\n",
      "0.5107778819119025\n",
      "Param K=  21\n",
      "0.6546039404905508\n",
      "0.5417057169634489\n",
      "Param K=  31\n",
      "0.6473663047848813\n",
      "0.5923149015932521\n",
      "Param K=  41\n",
      "0.6208283071974267\n",
      "0.5679475164011246\n",
      "Param K=  51\n",
      "0.605146763168476\n",
      "0.5745079662605436\n",
      "Param K=  61\n",
      "0.5729794933655006\n",
      "0.5595126522961574\n",
      "Param K=  71\n",
      "0.5589063128266988\n",
      "0.549203373945642\n",
      "Param K=  81\n",
      "0.5689585846401287\n",
      "0.555763823805061\n",
      "Param K=  91\n",
      "0.5749899477281866\n",
      "0.549203373945642\n"
     ]
    },
    {
     "data": {
      "image/png": "[encoded data removed]",
      "text/plain": [
       "<Figure size 432x288 with 1 Axes>"
      ]
     },
     "metadata": {
      "needs_background": "light"
     },
     "output_type": "display_data"
    }
   ],
   "source": [
    "from sklearn.neighbors import KNeighborsClassifier\n",
    "def do_KNN(x,y,xv,yv, param):\n",
    "    model = KNeighborsClassifier()\n",
    "    print(\"Param K= \",param)\n",
    "    model.set_params(n_neighbors=param)\n",
    "    model.fit(x,y)\n",
    "    train_acc = model.score(x,y)\n",
    "    test_acc = model.score(xv,yv)\n",
    "    return model, train_acc, test_acc\n",
    "\n",
    "Ks = np.arange(1, 100, 10) \n",
    "list_train_acc = []\n",
    "list_test_acc = []\n",
    "for i in Ks:\n",
    "    _, train_acc, test_acc = do_KNN(features_train,labels_train,features_val,labels_val,i)\n",
    "    list_train_acc.append(train_acc)\n",
    "    list_test_acc.append(test_acc)\n",
    "    print(train_acc)\n",
    "    print(test_acc)\n",
    "\n",
    "plt.scatter(Ks,list_train_acc,c='r',label='Train')\n",
    "plt.scatter(Ks,list_test_acc,c='b',label='Val')\n",
    "pylab.legend(loc='upper right')\n",
    "plt.show()"
   ]
  },
  {
   "cell_type": "markdown",
   "metadata": {},
   "source": [
    "En el conjunto de entrenamiento se puede observar que, a medida que aumenta la cantidad de vecinos involucrados en la clasificación, disminuye la accuracy. Esto se debe a que una cantidad definida de vecinos más cercanos (por ejemplo, en el peak k = 20) sean los realmente significativos a nivel de similaridad y si se va aumentando este número, se tomarán en cuenta vecinos que no tengan similitudes importantes con el individuo a clasificar, por lo que la accuracy disminuirá. Inclusive, esto se puede observar en la vida real, donde del universo de personas que conocemos, hay una cantidad muy reducida de ellas que tengan intereses similares a los nuestros. Más aún en el caso del problema, donde los individuos clasificados podrían no tener ninguna relación entre si. "
   ]
  },
  {
   "cell_type": "markdown",
   "metadata": {},
   "source": [
    "\n",
    "> i) Entrene un Arbol de Decisión para resolver el problema. Varíe los parámetros de *max depth* y *min samples split* de manera separada, constuyendo gráficos de error respecto a estos parámetros. *Los valores que se presentan son sugerencias, no es necesario utilizar los mismos*. Comente sobre la diferencia entre la selección de estos dos parámetros.\n",
    "```python\n",
    "from sklearn.tree import DecisionTreeClassifier as Tree\n",
    "def do_Tree(x,y,xv,yv, param_d=None, param_m=2):\n",
    "    model= Tree()\n",
    "    print(\"Param Max-D= \",param_d, 'Min-samples-S= ', param_m)\n",
    "    model.set_params(max_depth=param_d, min_samples_split=param_m) \n",
    "    model.fit(x,y)\n",
    "    train_acc = model.score(x,y)\n",
    "    test_acc = model.score(xv,yv)\n",
    "    return model, train_acc, test_acc\n",
    "Depths = np.arange(1, features_train.shape[1], steps ) #choose steps\n",
    "SamplesS = np.arange(2, features_train.shape[0] , steps ) #choose steps\n",
    "```\n"
   ]
  },
  {
   "cell_type": "code",
   "execution_count": 12,
   "metadata": {},
   "outputs": [
    {
     "name": "stdout",
     "output_type": "stream",
     "text": [
      "Param Max-D=  1 Min-samples-S=  2\n",
      "Param Max-D=  301 Min-samples-S=  2\n",
      "Param Max-D=  601 Min-samples-S=  2\n",
      "Param Max-D=  901 Min-samples-S=  2\n",
      "Param Max-D=  1201 Min-samples-S=  2\n",
      "Param Max-D=  1501 Min-samples-S=  2\n",
      "Param Max-D=  1801 Min-samples-S=  2\n",
      "Param Max-D=  2101 Min-samples-S=  2\n",
      "Param Max-D=  2401 Min-samples-S=  2\n",
      "Param Max-D=  2701 Min-samples-S=  2\n",
      "Param Max-D=  3001 Min-samples-S=  2\n",
      "Param Max-D=  3301 Min-samples-S=  2\n",
      "Param Max-D=  3601 Min-samples-S=  2\n",
      "Param Max-D=  3901 Min-samples-S=  2\n",
      "Param Max-D=  4201 Min-samples-S=  2\n",
      "Param Max-D=  4501 Min-samples-S=  2\n",
      "Param Max-D=  4801 Min-samples-S=  2\n",
      "Param Max-D=  5101 Min-samples-S=  2\n",
      "Param Max-D=  5401 Min-samples-S=  2\n",
      "Param Max-D=  5701 Min-samples-S=  2\n",
      "Param Max-D=  6001 Min-samples-S=  2\n",
      "Param Max-D=  6301 Min-samples-S=  2\n",
      "Param Max-D=  6601 Min-samples-S=  2\n",
      "Param Max-D=  6901 Min-samples-S=  2\n",
      "Param Max-D=  7201 Min-samples-S=  2\n",
      "Param Max-D=  7501 Min-samples-S=  2\n",
      "Param Max-D=  None Min-samples-S=  2\n",
      "Param Max-D=  None Min-samples-S=  102\n",
      "Param Max-D=  None Min-samples-S=  202\n",
      "Param Max-D=  None Min-samples-S=  302\n",
      "Param Max-D=  None Min-samples-S=  402\n",
      "Param Max-D=  None Min-samples-S=  502\n",
      "Param Max-D=  None Min-samples-S=  602\n",
      "Param Max-D=  None Min-samples-S=  702\n",
      "Param Max-D=  None Min-samples-S=  802\n",
      "Param Max-D=  None Min-samples-S=  902\n",
      "Param Max-D=  None Min-samples-S=  1002\n",
      "Param Max-D=  None Min-samples-S=  1102\n",
      "Param Max-D=  None Min-samples-S=  1202\n",
      "Param Max-D=  None Min-samples-S=  1302\n",
      "Param Max-D=  None Min-samples-S=  1402\n",
      "Param Max-D=  None Min-samples-S=  1502\n",
      "Param Max-D=  None Min-samples-S=  1602\n",
      "Param Max-D=  None Min-samples-S=  1702\n",
      "Param Max-D=  None Min-samples-S=  1802\n",
      "Param Max-D=  None Min-samples-S=  1902\n",
      "Param Max-D=  None Min-samples-S=  2002\n",
      "Param Max-D=  None Min-samples-S=  2102\n",
      "Param Max-D=  None Min-samples-S=  2202\n",
      "Param Max-D=  None Min-samples-S=  2302\n",
      "Param Max-D=  None Min-samples-S=  2402\n"
     ]
    },
    {
     "data": {
      "image/png": "[encoded data removed]",
      "text/plain": [
       "<Figure size 432x288 with 1 Axes>"
      ]
     },
     "metadata": {
      "needs_background": "light"
     },
     "output_type": "display_data"
    },
    {
     "data": {
      "image/png": "[encoded data removed]",
      "text/plain": [
       "<Figure size 432x288 with 1 Axes>"
      ]
     },
     "metadata": {
      "needs_background": "light"
     },
     "output_type": "display_data"
    }
   ],
   "source": [
    "from sklearn.tree import DecisionTreeClassifier as Tree\n",
    "def do_Tree(x,y,xv,yv, param_d, param_m):\n",
    "    model= Tree()\n",
    "    print(\"Param Max-D= \",param_d, 'Min-samples-S= ', param_m)\n",
    "    model.set_params(max_depth=param_d, min_samples_split=param_m) \n",
    "    model.fit(x,y)\n",
    "    train_acc = model.score(x,y)\n",
    "    test_acc = model.score(xv,yv)\n",
    "    return model, train_acc, test_acc\n",
    "Depths = np.arange(1, features_train.shape[1], 300 ) #choose steps\n",
    "SamplesS = np.arange(2, features_train.shape[0] , 100 ) #choose steps\n",
    "\n",
    "acc_depths = []\n",
    "acc_samples = []\n",
    "\n",
    "for i in Depths:\n",
    "    _, train_acc, _ = do_Tree(features_train, labels_train, features_val, labels_val, i, 2)\n",
    "    acc_depths.append(train_acc)\n",
    "\n",
    "for j in SamplesS:\n",
    "    _, train_acc, _ = do_Tree(features_train, labels_train, features_val, labels_val, None, j)\n",
    "    acc_samples.append(train_acc)\n",
    "    \n",
    "plt.scatter(Depths, acc_depths)\n",
    "plt.title('train accuracy vs max depth')\n",
    "plt.show() \n",
    "\n",
    "plt.scatter(SamplesS, acc_samples)\n",
    "plt.title('train accuracy vs min samples split')\n",
    "plt.show() \n",
    "    \n",
    "    "
   ]
  },
  {
   "cell_type": "markdown",
   "metadata": {},
   "source": [
    "> j) Utilice una Red Neuronal Artificial (ANN) para intentar resolver el problema, como la que se señala a continuación (utilizando el framework de *keras*): entrenada por 25 iteraciones al dataset (*epochs*) con un tamaño de *batch* de 128 para las actualizaciones de los pesos, utilizando *SGD* con una tasa de aprendizaje $0.1$ sobre la función de pérdida binaria de clasificación. La arquitectura de la red contiene una capa de salida con una única neurona que indica la probabilidad de que el texto sea positivo, una capa escondida con número de neuronas $N_h$ y la capa de entrada implícita para $x$. Varíe el parámetro que corresponde al número de neuronas en la capa oculta $N_h$, en potencias de 2, y vuelva a realizar el gráfico de error con respecto al parámetro. Comente.\n"
   ]
  },
  {
   "cell_type": "code",
   "execution_count": 13,
   "metadata": {},
   "outputs": [
    {
     "name": "stderr",
     "output_type": "stream",
     "text": [
      "Using TensorFlow backend.\n"
     ]
    },
    {
     "name": "stdout",
     "output_type": "stream",
     "text": [
      "Neuron hidden =  2\n",
      "Neuron hidden =  4\n",
      "Neuron hidden =  8\n",
      "Neuron hidden =  16\n",
      "Neuron hidden =  32\n",
      "Neuron hidden =  64\n",
      "Neuron hidden =  128\n",
      "Neuron hidden =  256\n",
      "Neuron hidden =  512\n"
     ]
    },
    {
     "data": {
      "image/png": "[encoded data removed]",
      "text/plain": [
       "<Figure size 432x288 with 1 Axes>"
      ]
     },
     "metadata": {
      "needs_background": "light"
     },
     "output_type": "display_data"
    }
   ],
   "source": [
    "from keras.models import Sequential\n",
    "from keras.layers import Dense\n",
    "from keras.optimizers import SGD\n",
    "def do_ANN(x,y, xv,yv, param):\n",
    "    print(\"Neuron hidden = \",param)\n",
    "    model = Sequential()\n",
    "    model.add(Dense(units=param, input_dim=x.shape[1], activation=\"sigmoid\"))\n",
    "    model.add(Dense(1, activation=\"sigmoid\"))\n",
    "    model.compile(optimizer=SGD(lr=0.1), loss=\"binary_crossentropy\", metrics=[\"accuracy\"])\n",
    "    model.fit(x, y, epochs=25, batch_size=128, verbose=0)\n",
    "    train_acc = model.evaluate(x,y, verbose=0)[1] #in position 0 is the loss\n",
    "    test_acc = model.evaluate(xv,yv, verbose=0)[1]\n",
    "    return model, train_acc, test_acc\n",
    "N_h = [2**i for i in range(1,10)]\n",
    "\n",
    "acc_train = []\n",
    "acc_val = []\n",
    "\n",
    "for i in N_h:\n",
    "    _, train_acc, val_acc = do_ANN(features_train, labels_train, features_val, labels_val, i)\n",
    "    acc_train.append(train_acc)\n",
    "    acc_val.append(val_acc)\n",
    "    \n",
    "\n",
    "plt.scatter(N_h,acc_train,c='r',label='Train')\n",
    "plt.scatter(N_h,acc_val,c='b',label='Val')  \n",
    "plt.xscale(\"symlog\",basex=2)\n",
    "plt.xlim(2**1, 2**9)\n",
    "#plt.xticks(np.linspace(2**1, 2**9, 9, endpoint=True))\n",
    "pylab.legend(loc='upper right')\n",
    "plt.show()\n",
    "\n"
   ]
  },
  {
   "cell_type": "markdown",
   "metadata": {},
   "source": [
    "En este gráfico podemos darnos cuenta de que la acuraccy no tiene una tendencia clara a medida que se aumenta la cantidad de neuronas ocultas. "
   ]
  },
  {
   "cell_type": "markdown",
   "metadata": {},
   "source": [
    "\n",
    "> k) Ahora evalúe sobre el conjunto de pruebas el mejor modelo obtenido, seleccionado en base a la métrica de desempeño en el conjunto de validación. Comente sobre la calidad obtenida en el problema trabajado ¿Es un buen valor? ¿Cuál podría ser un valor de referencia?\n",
    "\n"
   ]
  },
  {
   "cell_type": "markdown",
   "metadata": {},
   "source": [
    "El mejor modelo obtenido observando los gráficos es el de Regresión Logística, donde se obtiene una acuraccy aproximadamente de 0.71 para el conjunto de validación. Respecto a la calidad obtenida, esta es buena dado que no se tenia un conjunto de entrenamiento tan grande, lo que provoco que el acuraccy no fuera mayor aun. Adémas, una posible equivocación en el resultado para este problema específico no tiene consecuencias graves como lo sería para la detección de una enfermedad. Dado esto, un valor de referencia para este problema podría estar entre 0.7 y 0.8."
   ]
  },
  {
   "cell_type": "markdown",
   "metadata": {},
   "source": [
    "> l) Para comparar sus resultados utilice el modelo VADER (*Valence Aware Dictionary and sEntiment Reasoner*) [[6]](#refs), el cual entrega una *score* de predicción a nivel léxico (de palabras que comúnmente se asocian a una orientiación positiva o negativa). Este modelo construido manualmente no requiere entrenamiento, por lo que solo debe evaluar en conjunto de pruebas realizando predicciones del texto bruto (sin pre-procesamiento). Comente.\n"
   ]
  },
  {
   "cell_type": "code",
   "execution_count": 14,
   "metadata": {},
   "outputs": [
    {
     "data": {
      "text/plain": [
       "0.6359032076533483"
      ]
     },
     "execution_count": 14,
     "metadata": {},
     "output_type": "execute_result"
    }
   ],
   "source": [
    "from vaderSentiment.vaderSentiment import SentimentIntensityAnalyzer \n",
    "def vader_predict(sentences): \n",
    "    sid_obj = SentimentIntensityAnalyzer() \n",
    "    sent_v = []\n",
    "    for text in sentences:\n",
    "        sentiment_dict = sid_obj.polarity_scores(text) \n",
    "        if sentiment_dict[\"pos\"] > sentiment_dict[\"neg\"]: #based on scores\n",
    "            sent_v.append(1)\n",
    "        else:\n",
    "            sent_v.append(0)\n",
    "    return np.asarray(sent_v)\n",
    "vader_pred_test = vader_predict(df_test_text) \n",
    "from sklearn.metrics import accuracy_score\n",
    "accuracy_score(labels_test, vader_pred_test)"
   ]
  },
  {
   "cell_type": "markdown",
   "metadata": {},
   "source": [
    "Al comparar los resultados de este modelo con los modelos anteriores, se puede observar que la predicción realizada por el modelo VADER está dentro de los rangos de valores para accuracy obtenidos por los modelos anteriores, por lo que se puede concluir que este modelo es una buena aproximación para predecir opiniones sobre las películas, con la ventaja de que cuenta con un menor tiempo de ejecución que los modelos anteriores, dado que no realiza entrenamiento."
   ]
  },
  {
   "cell_type": "markdown",
   "metadata": {},
   "source": [
    "> m) Bajo la idea del modelo VADER realice un análisis de qué palabras su modelo tiende a considerar como positivas o negativas por si solas. Algunos de los modelos estudiados en esta sección realizan una predicción probabilista, utilice uno de éstos para verificar lo solicitado. Sobre la representación *TF* genere datos de entradas que contengan una sola palabra del vocabulario para evaluar que predicción les genera su modelo a esas palabras. Muestre las palabras más negativas y positivas en el vocabulario consideradas por su modelo. Comente.\n",
    "```python\n",
    "V = len(vocab)\n",
    "word_scores = np.zeros((V, 2))\n",
    "for i in range(V):\n",
    "    x_word = np.zeros((1, V))\n",
    "    x_word[:,i] = 1 # only the \"i\" word appeared\n",
    "    word_scores[i] = model.predict_proba(x_word)\n",
    "vocab\n",
    "```"
   ]
  },
  {
   "cell_type": "code",
   "execution_count": 15,
   "metadata": {},
   "outputs": [],
   "source": [
    "V = len(vocab)\n",
    "word_scores = np.zeros((V, 2))\n",
    "for i in range(V):\n",
    "    x_word = np.zeros((1, V))\n",
    "    x_word[:,i] = 1 # only the \"i\" word appeared\n",
    "    word_scores[i] = model.predict_proba(x_word)"
   ]
  },
  {
   "cell_type": "code",
   "execution_count": 16,
   "metadata": {
    "scrolled": true
   },
   "outputs": [
    {
     "name": "stdout",
     "output_type": "stream",
     "text": [
      "Las palabras mas negativas son:\n",
      "worst\n",
      "mildly\n",
      "dull\n",
      "stale\n",
      "apparent\n",
      "dramatically\n",
      "cliche\n",
      "flat\n",
      "comedic\n",
      "unfortunately\n",
      "devoid\n",
      "save\n",
      "suffers\n",
      "pretentious\n",
      "heavy\n",
      "--------------\n",
      "Las palabras mas positivas son:\n",
      "took\n",
      "album\n",
      "engage\n",
      "skillful\n",
      "solid\n",
      "marching\n",
      "marvel\n",
      "world\n",
      "creative\n",
      "witty\n",
      "openness\n",
      "loved\n",
      "dense\n",
      "still\n",
      "storytelling\n"
     ]
    }
   ],
   "source": [
    "a=word_scores[:,0].argsort()[-15:][::-1]\n",
    "print(\"Las palabras mas negativas son:\")\n",
    "for i in a:\n",
    "    print(vocab[i])\n",
    "print(\"--------------\")\n",
    "print(\"Las palabras mas positivas son:\")\n",
    "b=word_scores[:,1].argsort()[-15:][::-1]\n",
    "for i in b:\n",
    "    print(vocab[i])"
   ]
  },
  {
   "cell_type": "markdown",
   "metadata": {},
   "source": [
    "Una vez obtenidas ambas listas, se observa que tanto positivas como negativas concuerdan en gran medida con lo esperado, obteniendo adjetivos como 'solid', 'creative' y 'loved'  para las positivas, que tienen una marcada connotación de buena recepción respecto a la película. Por parte de las palabras negativas, se obtuvieron palabras como 'heavy', 'pretentious' y 'worst', las cuales demuestran una clara connotación negativa y de mala recepción. También se obtuvieron algunas palabras neutrales, cuya presencia se debe a que son palabras de uso habitual en las reseñas como 'storytelling'."
   ]
  },
  {
   "cell_type": "markdown",
   "metadata": {},
   "source": [
    "> n) Intente mejorar los resultados de otra manera. Varíe el pre-procesamiento realizado a los datos en c), por ejemplo eliminar símbolos, números o aplicar la técnica de *stemmming* [[7]](#refs) en lugar de *lemmatization* para llevar a su tronco léxico.\n",
    "```python\n",
    "from nltk.stem.porter import PorterStemmer\n",
    "wordstemmer = PorterStemmer()\n",
    "wordstemmer.stem(word)\n",
    "```"
   ]
  },
  {
   "cell_type": "code",
   "execution_count": 17,
   "metadata": {},
   "outputs": [
    {
     "name": "stdout",
     "output_type": "stream",
     "text": [
      " love cake\n",
      " love eat cake\n",
      " love eat cake\n",
      " love eat cake\n",
      " love eat cake\n",
      "Param C=  1.0\n"
     ]
    },
    {
     "name": "stderr",
     "output_type": "stream",
     "text": [
      "C:\\Users\\Diego\\Anaconda3\\lib\\site-packages\\sklearn\\linear_model\\logistic.py:433: FutureWarning: Default solver will be changed to 'lbfgs' in 0.22. Specify a solver to silence this warning.\n",
      "  FutureWarning)\n"
     ]
    },
    {
     "data": {
      "text/plain": [
       "0.7121553179516038"
      ]
     },
     "execution_count": 17,
     "metadata": {},
     "output_type": "execute_result"
    }
   ],
   "source": [
    "import re, time\n",
    "from nltk.corpus import stopwords\n",
    "from nltk import WordNetLemmatizer, word_tokenize\n",
    "from nltk.stem.porter import PorterStemmer\n",
    "def base_word(word):\n",
    "    wordstemmer = PorterStemmer()\n",
    "    return wordstemmer.stem(word) \n",
    "\n",
    "def word_extractor(text):\n",
    "    commonwords = stopwords.words('english')\n",
    "    text = re.sub(r'([a-z])\\1+', r'\\1\\1',text) #substitute multiple letter by two\n",
    "    words = \"\"\n",
    "    wordtokens = [ base_word(word.lower()) for word in word_tokenize(text) if len(word)>3]\n",
    "    for word in wordtokens:\n",
    "        if word not in commonwords: #delete stopwords\n",
    "            words+=\" \"+word\n",
    "    return words\n",
    "\n",
    "print(word_extractor(\"I love to eat cake\"))\n",
    "print(word_extractor(\"I love eating cake\"))\n",
    "print(word_extractor(\"I loved eating the cake\"))\n",
    "print(word_extractor(\"I do not love eating cake\"))\n",
    "print(word_extractor(\"I don't love eating cake\"))\n",
    "\n",
    "texts_train = [word_extractor(text) for text in df_train_text]\n",
    "texts_val = [word_extractor(text) for text in df_val_text]\n",
    "texts_test = [word_extractor(text) for text in df_test_text]\n",
    "\n",
    "import numpy as np\n",
    "from sklearn.feature_extraction.text import CountVectorizer\n",
    "\n",
    "vectorizer2 = CountVectorizer(ngram_range=(1, 1), binary=False) #TF representation\n",
    "vectorizer2.fit(texts_train)\n",
    "features_train = vectorizer2.transform(texts_train)\n",
    "features_test = vectorizer2.transform(texts_test)\n",
    "features_val = vectorizer2.transform(texts_val)\n",
    "\n",
    "model, train_acc, test_acc = do_LOGIT(features_train,labels_train,features_val,labels_val, param= 1.0 )\n",
    "\n",
    "model.score(features_test, labels_test)"
   ]
  },
  {
   "cell_type": "markdown",
   "metadata": {},
   "source": [
    "> o) Varíe la representación utilizada actualmente por alguna otra que ayude a mejorar el desempeño, por ejemplo reducir el peso de una palabra si es que aparece en muchos textos: TF-IDF. Existen varias opciones que podría realizar para mejorar el desempeño, por ejemplo reducir el vocabulario a las $K$ palabras más frecuentes, eliminar las palabras menos frecuentes, normalizar la representación, utilizar *n-gramas*, entre otras.\n",
    "\n",
    "\n"
   ]
  },
  {
   "cell_type": "code",
   "execution_count": 18,
   "metadata": {
    "scrolled": true
   },
   "outputs": [
    {
     "name": "stdout",
     "output_type": "stream",
     "text": [
      "Param C=  1.0\n"
     ]
    },
    {
     "data": {
      "text/plain": [
       "0.7203151378728193"
      ]
     },
     "execution_count": 18,
     "metadata": {},
     "output_type": "execute_result"
    }
   ],
   "source": [
    "from sklearn.feature_extraction.text import TfidfVectorizer\n",
    "tfidf_model = TfidfVectorizer(binary=False, ngram_range=(1, 1), max_df=1.0, min_df=1, max_features=None, norm='l2', use_idf=True, sublinear_tf=False)\n",
    "tfidf_model.fit(texts_train)\n",
    "features_train = tfidf_model.transform(texts_train)\n",
    "features_test=tfidf_model.transform(texts_test)\n",
    "features_val=tfidf_model.transform(texts_val)\n",
    "\n",
    "model, train_acc, test_acc = do_LOGIT(features_train,labels_train,features_val,labels_val, param= 1.0 )\n",
    "model.score(features_test, labels_test)"
   ]
  },
  {
   "cell_type": "markdown",
   "metadata": {},
   "source": [
    "Utilizando Tfidf se obtiene la mejor acuraccy hasta ahora, mejorando la precisión obtenida en el inciso n)"
   ]
  },
  {
   "cell_type": "markdown",
   "metadata": {},
   "source": [
    "> p) Utilice métricas auxiliares para entender en qué falla su mejor modelo obtenido hasta el momento. ¿La información entregada indica cómo se podría mejorar o cual sería la causa de la falla?\n",
    "\n"
   ]
  },
  {
   "cell_type": "code",
   "execution_count": 19,
   "metadata": {
    "scrolled": true
   },
   "outputs": [
    {
     "name": "stdout",
     "output_type": "stream",
     "text": [
      "Detailed Analysis Testing Results ...\n",
      "              precision    recall  f1-score   support\n",
      "\n",
      "           -       0.71      0.75      0.73      1803\n",
      "           +       0.73      0.69      0.71      1751\n",
      "\n",
      "   micro avg       0.72      0.72      0.72      3554\n",
      "   macro avg       0.72      0.72      0.72      3554\n",
      "weighted avg       0.72      0.72      0.72      3554\n",
      "\n"
     ]
    }
   ],
   "source": [
    "from sklearn.metrics import classification_report\n",
    "def score_the_model(model, x, y):\n",
    "    print(\"Detailed Analysis Testing Results ...\")\n",
    "    print(classification_report(y, model.predict(x), target_names=['-','+']))\n",
    "\n",
    "classes_weights = {0: 1,1:1}\n",
    "model.set_params(class_weight=classes_weights)\n",
    "score_the_model(model, features_test, labels_test )"
   ]
  },
  {
   "cell_type": "markdown",
   "metadata": {},
   "source": [
    "Se puede apreciar que tanto para las opiniones positivas como negativas el modelo posee falencias para determinar con certeza la categoría de la opinión. Por otro lado, hay que mencionar que el rendimiento para ambos es similar y cada etiqueta posee una importancia similar a la otra. El valor de soporte entrega que ambos poseen una cantidad similar de etiquetas, por lo que no hay una influencia de una etiqueta en la otra."
   ]
  },
  {
   "cell_type": "markdown",
   "metadata": {},
   "source": [
    "> q) Algo que se puede modificar en algunos modelos de aprendizaje es poner peso en cada una de las clases, por ejemplo si una clase es de mayor interés que las otras e interesa reducir más su error. En *sklearn* ésto puede ser realizado con el parámetro de *class_weights*. Por ejemplo, asigne que detectar los textos negativos me interesa 5 veces más que detectar los textos positivos. Comente.\n"
   ]
  },
  {
   "cell_type": "code",
   "execution_count": 20,
   "metadata": {},
   "outputs": [
    {
     "name": "stdout",
     "output_type": "stream",
     "text": [
      "Detailed Analysis Testing Results ...\n",
      "              precision    recall  f1-score   support\n",
      "\n",
      "           -       0.54      0.99      0.70      1803\n",
      "           +       0.93      0.13      0.22      1751\n",
      "\n",
      "   micro avg       0.56      0.56      0.56      3554\n",
      "   macro avg       0.73      0.56      0.46      3554\n",
      "weighted avg       0.73      0.56      0.46      3554\n",
      "\n"
     ]
    }
   ],
   "source": [
    "classes_weights = {0: 5, 1: 1} #or choose..\n",
    "model.set_params(class_weight=classes_weights)\n",
    "model.fit(features_train, labels_train)\n",
    "score_the_model(model, features_test, labels_test)"
   ]
  },
  {
   "cell_type": "markdown",
   "metadata": {},
   "source": [
    "\n",
    "\n",
    "El cambio de pesos aumento el recall para las etiquetas negativas y disminuye para la positiva. Esto significa que aumenta la capacidad del modelo para no errar al momento de clasificar las opiniones que deberian poseer una etiqueta negativa. La baja en el valor del recall de las opiniones positivas implica que la capacidad del modelo para acertar a la hora de clasificar los elementos de esa etiqueta es bastante baja. \n",
    "\n",
    "En consecuencia de lo mencionado anteriormente, la precisión para las etiquetas positivas aumenta y la precisión para las etiquetas negativas disminuye."
   ]
  },
  {
   "cell_type": "markdown",
   "metadata": {},
   "source": [
    "> r) Visualice la clasificación que realiza su mejor modelo sobre algunos textos de pruebas ¿Qué entega mas información, una predicción categórica o una continua? ¿Cuál podría ser el beneficio de una o de otra? Comente\n"
   ]
  },
  {
   "cell_type": "code",
   "execution_count": 21,
   "metadata": {
    "scrolled": true
   },
   "outputs": [
    {
     "name": "stdout",
     "output_type": "stream",
     "text": [
      "True sent:  1.0 -- Pred sent:  [0.82372327 0.17627673]\n",
      "Raw text:  campanella's competent direction and his excellent cast overcome the obstacles of a predictable outcome and a screenplay that glosses over rafael's evolution .\n",
      "\n",
      "True sent:  0.0 -- Pred sent:  [0.81263426 0.18736574]\n",
      "Raw text:  moretti plays giovanni , a psychiatrist who predictably finds it difficult to sustain interest in his profession after the family tragedy . too predictably , in fact .\n",
      "\n",
      "True sent:  0.0 -- Pred sent:  [0.70931073 0.29068927]\n",
      "Raw text:  large budget notwithstanding , the movie is such a blip on the year's radar screen that it's tempting just to go with it for the ride . but this time , the old mib label stands for milder isn't better .\n",
      "\n",
      "True sent:  0.0 -- Pred sent:  [0.80364368 0.19635632]\n",
      "Raw text:  the central character isn't complex enough to hold our interest .\n",
      "\n",
      "True sent:  1.0 -- Pred sent:  [0.38377066 0.61622934]\n",
      "Raw text:  a charming romantic comedy that is by far the lightest dogme film and among the most enjoyable .\n",
      "\n",
      "True sent:  1.0 -- Pred sent:  [0.77705992 0.22294008]\n",
      "Raw text:  an entertaining , if somewhat standardized , action movie .\n",
      "\n",
      "True sent:  1.0 -- Pred sent:  [0.68128158 0.31871842]\n",
      "Raw text:  the spark of special anime magic here is unmistakable and hard to resist .\n",
      "\n",
      "True sent:  0.0 -- Pred sent:  [0.92391373 0.07608627]\n",
      "Raw text:  this movie plays like an extended dialogue exercise in retard 101 .\n",
      "\n",
      "True sent:  1.0 -- Pred sent:  [0.62948815 0.37051185]\n",
      "Raw text:  it provides a grim , upsetting glimpse at the lives of some of the 1 . 2 million palestinians who live in the crowded cities and refugee camps of gaza .\n",
      "\n",
      "True sent:  0.0 -- Pred sent:  [0.72376644 0.27623356]\n",
      "Raw text:  please , someone , stop eric schaeffer before he makes another film .\n",
      "\n",
      "True sent:  0.0 -- Pred sent:  [0.78161704 0.21838296]\n",
      "Raw text:  \" the tuxedo \" should have been the vehicle for chan that \" the mask \" was for jim carrey . alas , it's the man that makes the clothes .\n",
      "\n",
      "True sent:  0.0 -- Pred sent:  [0.95349809 0.04650191]\n",
      "Raw text:  little is done to support the premise other than fling gags at it to see which ones shtick .\n",
      "\n",
      "True sent:  1.0 -- Pred sent:  [0.63343689 0.36656311]\n",
      "Raw text:  the unique tug-of-war with viewer expectations is undeniable , if not a pleasure in its own right .\n",
      "\n",
      "True sent:  0.0 -- Pred sent:  [0.80041889 0.19958111]\n",
      "Raw text:  if you've ever entertained the notion of doing what the title of this film implies , what sex with strangers actually shows may put you off the idea forever .\n",
      "\n",
      "True sent:  0.0 -- Pred sent:  [0.89724437 0.10275563]\n",
      "Raw text:  a picture as erratic as its central character .\n",
      "\n"
     ]
    }
   ],
   "source": [
    "test_pred = model.predict_proba(features_test) #or \".predict\"\n",
    "spl = np.random.randint( 0, len(test_pred), size=15)\n",
    "for text, pred_s, true_s in zip(df_test_text[spl], test_pred[spl], labels_test[spl]):\n",
    "    print(\"True sent: \", true_s, \"-- Pred sent: \",pred_s)\n",
    "    print(\"Raw text: \", text)"
   ]
  },
  {
   "cell_type": "markdown",
   "metadata": {},
   "source": [
    "Un valor continuo entrega mayor información ya que permite clasificar opiniones negativas,positivas y neutras. Además, se puede diferenciar cual opinión es mas positiva que otra, lo que ayuda bastante en algunos estudios.\n",
    "\n",
    "Por otro lado, hay estudios donde solo es necesario etiquetar como positiva o negativa una opinión, por lo que tomar valores categóricos es mas útil en estos estudios."
   ]
  },
  {
   "cell_type": "markdown",
   "metadata": {},
   "source": [
    "> s) Comente sobre el desempeño obtenido por los diferentes modelos de aprendizaje utilizados al enfrentar el problema, ¿Dónde pareciera estar la mejora? ¿En la variación de los modelos y sus parámetros o en la modificación de la representación? ¿Cuál modelo de aprendizaje le parece mejor en base a su criterio? ya sea desempeño, tiempo de ejecución comodidad en las decisiones involucradas, etc."
   ]
  },
  {
   "cell_type": "markdown",
   "metadata": {},
   "source": [
    "El mejor modelo de aprendizaje fue utilizando Regresión Logística, donde se obtuvo un acuraccy cercano al 71%. El cambio de parametros fue útil para determinar con cual se podia lograr una mejor precisión ya que para ciertos parametros la precisión bajaba drasticamente. Al utilizar otra representación (Tf-idf) solo se aumento a una precisión del 72%, por lo que un cambio de representación no hizo que mejorara significativamente."
   ]
  },
  {
   "cell_type": "markdown",
   "metadata": {},
   "source": [
    "<a id=\"refs\"></a>\n",
    "## Referencias\n",
    "[1] Keras: Deep Learning library for Theano and TensorFlow. https://keras.io/  \n",
    "[2] https://www.kaggle.com/c/sentiment-analysis-on-movie-reviews  \n",
    "[3] https://en.wikipedia.org/wiki/Stopwords  \n",
    "[4] https://en.wikipedia.org/wiki/Lemmatisation  \n",
    "[5] Landauer, T. K., Foltz, P. W., & Laham, D. (1998). *An introduction to latent semantic analysis*. Discourse processes, 25(2-3), 259-284.  \n",
    "[6] https://github.com/cjhutto/vaderSentiment  \n",
    "[7] https://en.wikipedia.org/wiki/Stemming  \n",
    "[8] Rodrigues, F., Pereira, F., & Ribeiro, B. (2013). *Learning from multiple annotators: distinguishing good from random labelers*. Pattern Recognition Letters, 34(12), 1428-1436."
   ]
  }
 ],
 "metadata": {
  "kernelspec": {
   "display_name": "Python 3",
   "language": "python",
   "name": "python3"
  },
  "language_info": {
   "codemirror_mode": {
    "name": "ipython",
    "version": 3
   },
   "file_extension": ".py",
   "mimetype": "text/x-python",
   "name": "python",
   "nbconvert_exporter": "python",
   "pygments_lexer": "ipython3",
   "version": "3.7.3"
  }
 },
 "nbformat": 4,
 "nbformat_minor": 2
}
